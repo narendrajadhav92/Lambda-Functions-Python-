{
 "cells": [
  {
   "cell_type": "markdown",
   "id": "4a54f97d",
   "metadata": {},
   "source": [
    "1.Write a Python program to create a lambda function that adds two numbers.\n"
   ]
  },
  {
   "cell_type": "code",
   "execution_count": 1,
   "id": "2681ee29",
   "metadata": {},
   "outputs": [
    {
     "data": {
      "text/plain": [
       "57"
      ]
     },
     "execution_count": 1,
     "metadata": {},
     "output_type": "execute_result"
    }
   ],
   "source": [
    "a = lambda x, y  : x+y\n",
    "a(2, 55)"
   ]
  },
  {
   "cell_type": "markdown",
   "id": "159cc680",
   "metadata": {},
   "source": [
    "2.Write a Python program to create a lambda function that subtracts two numbers.\n"
   ]
  },
  {
   "cell_type": "code",
   "execution_count": 2,
   "id": "c0ae02b7",
   "metadata": {},
   "outputs": [
    {
     "data": {
      "text/plain": [
       "-53"
      ]
     },
     "execution_count": 2,
     "metadata": {},
     "output_type": "execute_result"
    }
   ],
   "source": [
    "a = lambda x, y  : x- y\n",
    "a(2, 55)"
   ]
  },
  {
   "cell_type": "markdown",
   "id": "157122bd",
   "metadata": {},
   "source": [
    "3.Write a Python program to create a lambda function that multiplies two numbers.\n"
   ]
  },
  {
   "cell_type": "code",
   "execution_count": 3,
   "id": "6688a401",
   "metadata": {},
   "outputs": [
    {
     "data": {
      "text/plain": [
       "110"
      ]
     },
     "execution_count": 3,
     "metadata": {},
     "output_type": "execute_result"
    }
   ],
   "source": [
    "a = lambda x, y  : x* y\n",
    "a(2, 55)"
   ]
  },
  {
   "cell_type": "markdown",
   "id": "25acbd4d",
   "metadata": {},
   "source": [
    "4.Write a Python program to create a lambda function that divides two numbers.\n"
   ]
  },
  {
   "cell_type": "code",
   "execution_count": 4,
   "id": "ffed5abc",
   "metadata": {},
   "outputs": [
    {
     "data": {
      "text/plain": [
       "0.03636363636363636"
      ]
     },
     "execution_count": 4,
     "metadata": {},
     "output_type": "execute_result"
    }
   ],
   "source": [
    "a = lambda x, y  : x/y\n",
    "a(2, 55)"
   ]
  },
  {
   "cell_type": "markdown",
   "id": "8bc5e323",
   "metadata": {},
   "source": [
    "5.Write a Python program to create a lambda function that calculates the square of a number.\n"
   ]
  },
  {
   "cell_type": "code",
   "execution_count": 5,
   "id": "a7bab516",
   "metadata": {},
   "outputs": [
    {
     "data": {
      "text/plain": [
       "16"
      ]
     },
     "execution_count": 5,
     "metadata": {},
     "output_type": "execute_result"
    }
   ],
   "source": [
    "a = lambda x : x*x\n",
    "a(4)"
   ]
  },
  {
   "cell_type": "markdown",
   "id": "6b335aae",
   "metadata": {},
   "source": [
    "6.Write a Python program to create a lambda function that calculates the cube of a number.\n"
   ]
  },
  {
   "cell_type": "code",
   "execution_count": 6,
   "id": "2d1185f5",
   "metadata": {},
   "outputs": [
    {
     "data": {
      "text/plain": [
       "64"
      ]
     },
     "execution_count": 6,
     "metadata": {},
     "output_type": "execute_result"
    }
   ],
   "source": [
    "a = lambda x : x**3\n",
    "a(4)"
   ]
  },
  {
   "cell_type": "markdown",
   "id": "9c2c8a40",
   "metadata": {},
   "source": [
    "7.Write a Python program to create a lambda function that calculates the factorial of a number.\n"
   ]
  },
  {
   "cell_type": "code",
   "execution_count": 1,
   "id": "31356be1",
   "metadata": {},
   "outputs": [
    {
     "data": {
      "text/plain": [
       "6"
      ]
     },
     "execution_count": 1,
     "metadata": {},
     "output_type": "execute_result"
    }
   ],
   "source": [
    "import math\n",
    "a = lambda x : math.factorial(x)\n",
    "a(3)"
   ]
  },
  {
   "cell_type": "markdown",
   "id": "aefc55b3",
   "metadata": {},
   "source": [
    "8.Write a Python program to create a lambda function that returns the maximum of two numbers.\n"
   ]
  },
  {
   "cell_type": "code",
   "execution_count": 2,
   "id": "5167aa2e",
   "metadata": {},
   "outputs": [
    {
     "data": {
      "text/plain": [
       "4"
      ]
     },
     "execution_count": 2,
     "metadata": {},
     "output_type": "execute_result"
    }
   ],
   "source": [
    "a = lambda x, y : x if x > y else y\n",
    "a(3,4)"
   ]
  },
  {
   "cell_type": "markdown",
   "id": "2264e34a",
   "metadata": {},
   "source": [
    "9.Write a Python program to create a lambda function that returns the minimum of two numbers.\n"
   ]
  },
  {
   "cell_type": "code",
   "execution_count": 3,
   "id": "9a497405",
   "metadata": {},
   "outputs": [
    {
     "data": {
      "text/plain": [
       "3"
      ]
     },
     "execution_count": 3,
     "metadata": {},
     "output_type": "execute_result"
    }
   ],
   "source": [
    "a = lambda x, y : y if x > y else x\n",
    "a(3,4)"
   ]
  },
  {
   "cell_type": "markdown",
   "id": "0b7eb726",
   "metadata": {},
   "source": [
    "10.Write a Python program to create a lambda function that checks whether a given number is even or odd.\n"
   ]
  },
  {
   "cell_type": "code",
   "execution_count": 6,
   "id": "6152ab14",
   "metadata": {},
   "outputs": [
    {
     "data": {
      "text/plain": [
       "'Odd'"
      ]
     },
     "execution_count": 6,
     "metadata": {},
     "output_type": "execute_result"
    }
   ],
   "source": [
    "a = lambda x: 'Even' if x % 2 ==0 else 'Odd'\n",
    "a(345)"
   ]
  },
  {
   "cell_type": "markdown",
   "id": "d5387eb9",
   "metadata": {},
   "source": [
    "11.Write a Python program to create a lambda function that checks whether a given number is prime or not.\n"
   ]
  },
  {
   "cell_type": "code",
   "execution_count": 18,
   "id": "c739c4f5",
   "metadata": {},
   "outputs": [
    {
     "name": "stdout",
     "output_type": "stream",
     "text": [
      "True\n"
     ]
    },
    {
     "data": {
      "text/plain": [
       "False"
      ]
     },
     "execution_count": 18,
     "metadata": {},
     "output_type": "execute_result"
    }
   ],
   "source": [
    "a = lambda n : n >1 and all(n% i!=0 for i in range(2,int(n**0.5) +1))\n",
    "print(a(5))\n",
    "a(56)"
   ]
  },
  {
   "cell_type": "markdown",
   "id": "4ba5bacb",
   "metadata": {},
   "source": [
    "12.Write a Python program to create a lambda function that checks whether a given string is palindrome or not.\n"
   ]
  },
  {
   "cell_type": "code",
   "execution_count": 10,
   "id": "0db19d8d",
   "metadata": {},
   "outputs": [
    {
     "data": {
      "text/plain": [
       "'yes'"
      ]
     },
     "execution_count": 10,
     "metadata": {},
     "output_type": "execute_result"
    }
   ],
   "source": [
    "a = lambda x : 'yes' if x == x[::-1]  else 'No'\n",
    "a('opo')"
   ]
  },
  {
   "cell_type": "markdown",
   "id": "5debfc05",
   "metadata": {},
   "source": [
    "13.Write a Python program to create a lambda function that checks whether a given string is a valid email address or not.\n"
   ]
  },
  {
   "cell_type": "code",
   "execution_count": 17,
   "id": "04db2d30",
   "metadata": {},
   "outputs": [
    {
     "data": {
      "text/plain": [
       "'no'"
      ]
     },
     "execution_count": 17,
     "metadata": {},
     "output_type": "execute_result"
    }
   ],
   "source": [
    "a = lambda x : 'Valid' if x.split('.') [1] == 'com' and '@' in x.split('.')[0] else 'no'\n",
    "a('naefe43334.com')"
   ]
  },
  {
   "cell_type": "markdown",
   "id": "a2ea44ed",
   "metadata": {},
   "source": [
    "14.Write a Python program to create a lambda function that checks whether a given string is a valid URL or not.\n"
   ]
  },
  {
   "cell_type": "code",
   "execution_count": 19,
   "id": "b82fdd2b",
   "metadata": {},
   "outputs": [
    {
     "data": {
      "text/plain": [
       "True"
      ]
     },
     "execution_count": 19,
     "metadata": {},
     "output_type": "execute_result"
    }
   ],
   "source": [
    "# Consider if str contains www it is valid\n",
    "a = lambda x: x.split('.')[0] == 'www'\n",
    "a('www.df')"
   ]
  },
  {
   "cell_type": "markdown",
   "id": "ed250bc7",
   "metadata": {},
   "source": [
    "15.Write a Python program to create a lambda function that converts a given string to uppercase.\n"
   ]
  },
  {
   "cell_type": "code",
   "execution_count": 20,
   "id": "8af2f86e",
   "metadata": {},
   "outputs": [
    {
     "data": {
      "text/plain": [
       "'ACBDD'"
      ]
     },
     "execution_count": 20,
     "metadata": {},
     "output_type": "execute_result"
    }
   ],
   "source": [
    "a = lambda x : x.upper()\n",
    "a('acbdd')"
   ]
  },
  {
   "cell_type": "markdown",
   "id": "879b36ba",
   "metadata": {},
   "source": [
    "16.Write a Python program to create a lambda function that converts a given string to lowercase.\n"
   ]
  },
  {
   "cell_type": "code",
   "execution_count": 21,
   "id": "42a0aa11",
   "metadata": {},
   "outputs": [
    {
     "data": {
      "text/plain": [
       "'ddcc'"
      ]
     },
     "execution_count": 21,
     "metadata": {},
     "output_type": "execute_result"
    }
   ],
   "source": [
    "a = lambda x : x.lower()\n",
    "a('DDCC')"
   ]
  },
  {
   "cell_type": "markdown",
   "id": "792bf7c7",
   "metadata": {},
   "source": [
    "17.Write a Python program to create a lambda function that sorts a list of strings in alphabetical order.\n"
   ]
  },
  {
   "cell_type": "code",
   "execution_count": 23,
   "id": "8028e961",
   "metadata": {},
   "outputs": [
    {
     "data": {
      "text/plain": [
       "['AAA', 'BBB', 'DDD', 'ZZZ']"
      ]
     },
     "execution_count": 23,
     "metadata": {},
     "output_type": "execute_result"
    }
   ],
   "source": [
    "a = lambda x: sorted(x)\n",
    "a(['AAA', 'DDD', 'BBB', 'ZZZ'])"
   ]
  },
  {
   "cell_type": "markdown",
   "id": "f56aa048",
   "metadata": {},
   "source": [
    "18.Write a Python program to create a lambda function that sorts a list of strings in reverse alphabetical order.\n"
   ]
  },
  {
   "cell_type": "code",
   "execution_count": 24,
   "id": "6f4376b2",
   "metadata": {},
   "outputs": [
    {
     "data": {
      "text/plain": [
       "['ZZZ', 'DDD', 'BBB', 'AAA']"
      ]
     },
     "execution_count": 24,
     "metadata": {},
     "output_type": "execute_result"
    }
   ],
   "source": [
    "a = lambda x: sorted(x, reverse = True\n",
    "                    )\n",
    "a(['AAA', 'DDD', 'BBB', 'ZZZ'])\n"
   ]
  },
  {
   "cell_type": "markdown",
   "id": "ece02503",
   "metadata": {},
   "source": [
    "19.Write a Python program to create a lambda function that sorts a list of tuples based on the second element in each tuple.\n"
   ]
  },
  {
   "cell_type": "code",
   "execution_count": 25,
   "id": "898d445c",
   "metadata": {},
   "outputs": [
    {
     "data": {
      "text/plain": [
       "[('BBB', 12, 'ZZZ'), ('AAA', 55, 'DDD'), ('CCC', 90)]"
      ]
     },
     "execution_count": 25,
     "metadata": {},
     "output_type": "execute_result"
    }
   ],
   "source": [
    "a =    [('Aq1AA', 55, 'DDD'), ('BBB', 12, 'ZZZ'), ('CCC', 90)]\n",
    "a.sort(key = lambda t: t[1])   \n",
    "a"
   ]
  },
  {
   "cell_type": "markdown",
   "id": "57197e18",
   "metadata": {},
   "source": [
    "20.Write a Python program to create a lambda function that sorts a list of dictionaries based on the value of a specific key.\n"
   ]
  },
  {
   "cell_type": "code",
   "execution_count": 27,
   "id": "fbc8e10f",
   "metadata": {},
   "outputs": [
    {
     "data": {
      "text/plain": [
       "[{'name': 'bash', 'age': 10},\n",
       " {'name': 'harley', 'age': 12},\n",
       " {'name': 'jack', 'age': 33}]"
      ]
     },
     "execution_count": 27,
     "metadata": {},
     "output_type": "execute_result"
    }
   ],
   "source": [
    "a =    [{'name':'jack', 'age': 33 }, {'name' : 'harley','age': 12},{'name':'bash', 'age':10}]\n",
    "a.sort(key = lambda t: t['age'])   \n",
    "a"
   ]
  },
  {
   "cell_type": "markdown",
   "id": "37b2a455",
   "metadata": {},
   "source": [
    "21.Write a Python program to create a lambda function that calculates the sum of a list of numbers.\n"
   ]
  },
  {
   "cell_type": "code",
   "execution_count": 28,
   "id": "4a0b9df9",
   "metadata": {},
   "outputs": [
    {
     "data": {
      "text/plain": [
       "10"
      ]
     },
     "execution_count": 28,
     "metadata": {},
     "output_type": "execute_result"
    }
   ],
   "source": [
    "a = lambda x : sum(x)\n",
    "a([1,2,3,4])"
   ]
  },
  {
   "cell_type": "markdown",
   "id": "1bfded47",
   "metadata": {},
   "source": [
    "22.Write a Python program to create a lambda function that calculates the product of a list of numbers.\n"
   ]
  },
  {
   "cell_type": "code",
   "execution_count": 1,
   "id": "efa9ad15",
   "metadata": {},
   "outputs": [
    {
     "data": {
      "text/plain": [
       "24"
      ]
     },
     "execution_count": 1,
     "metadata": {},
     "output_type": "execute_result"
    }
   ],
   "source": [
    "import math\n",
    "a = lambda x : math.prod(x)\n",
    "a([1,2,3,4])"
   ]
  },
  {
   "cell_type": "markdown",
   "id": "26965d9f",
   "metadata": {},
   "source": [
    "23.Write a Python program to create a lambda function that calculates the average of a list of numbers.\n"
   ]
  },
  {
   "cell_type": "code",
   "execution_count": 30,
   "id": "d233bd5d",
   "metadata": {},
   "outputs": [
    {
     "data": {
      "text/plain": [
       "2.5"
      ]
     },
     "execution_count": 30,
     "metadata": {},
     "output_type": "execute_result"
    }
   ],
   "source": [
    "a = lambda x : sum(x) / len(x)\n",
    "a([1,2,3,4])"
   ]
  },
  {
   "cell_type": "markdown",
   "id": "4a86be75",
   "metadata": {},
   "source": [
    "24.Write a Python program to create a lambda function that filters a list of numbers and returns only the even numbers.\n"
   ]
  },
  {
   "cell_type": "code",
   "execution_count": 31,
   "id": "0fe4df8b",
   "metadata": {},
   "outputs": [
    {
     "data": {
      "text/plain": [
       "[2, 4]"
      ]
     },
     "execution_count": 31,
     "metadata": {},
     "output_type": "execute_result"
    }
   ],
   "source": [
    "a = lambda x : [i for i in x if i % 2 == 0]\n",
    "a([1,2,3,4])"
   ]
  },
  {
   "cell_type": "markdown",
   "id": "a2b5d8d1",
   "metadata": {},
   "source": [
    "25.Write a Python program to create a lambda function that filters a list of strings and returns only the strings that start with a vowel."
   ]
  },
  {
   "cell_type": "code",
   "execution_count": 33,
   "id": "a2d01c7e",
   "metadata": {},
   "outputs": [
    {
     "data": {
      "text/plain": [
       "['AAA', 'EEE']"
      ]
     },
     "execution_count": 33,
     "metadata": {},
     "output_type": "execute_result"
    }
   ],
   "source": [
    "a = lambda x : [i for i in x if i[0]  in 'AEIOU']\n",
    "a(['AAA', 'DDD', 'BBB', 'ZZZ', 'EEE'])"
   ]
  },
  {
   "cell_type": "code",
   "execution_count": 4,
   "id": "30c139bf",
   "metadata": {},
   "outputs": [
    {
     "name": "stdout",
     "output_type": "stream",
     "text": [
      "24\n"
     ]
    }
   ],
   "source": [
    "import  functools\n",
    "lis = [1,2,3,4]\n",
    "print(functools.reduce(lambda a, b: a *b, lis))"
   ]
  },
  {
   "cell_type": "code",
   "execution_count": null,
   "id": "5ae2995f",
   "metadata": {},
   "outputs": [],
   "source": []
  }
 ],
 "metadata": {
  "kernelspec": {
   "display_name": "Python 3 (ipykernel)",
   "language": "python",
   "name": "python3"
  },
  "language_info": {
   "codemirror_mode": {
    "name": "ipython",
    "version": 3
   },
   "file_extension": ".py",
   "mimetype": "text/x-python",
   "name": "python",
   "nbconvert_exporter": "python",
   "pygments_lexer": "ipython3",
   "version": "3.9.13"
  }
 },
 "nbformat": 4,
 "nbformat_minor": 5
}
